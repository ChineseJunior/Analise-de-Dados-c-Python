{
 "cells": [
  {
   "cell_type": "markdown",
   "id": "eb362df1",
   "metadata": {},
   "source": [
    "Como rodar um código minuto a minuto"
   ]
  },
  {
   "cell_type": "code",
   "execution_count": null,
   "id": "02a16487",
   "metadata": {},
   "outputs": [],
   "source": [
    "import requests\n",
    "import pandas as pd\n",
    "from datetime import datetime\n",
    "import time\n",
    "\n",
    "while True:\n",
    "    requisicao = requests.get(\"https://economia.awesomeapi.com.br/last/USD-BRL,EUR-BRL,BTC-BRL\")\n",
    "\n",
    "    requisicao_dic = requisicao.json()\n",
    "    cotacao_dolar = requisicao_dic[\"USDBRL\"][\"bid\"]\n",
    "    cotacao_euro = requisicao_dic[\"EURBRL\"][\"bid\"]\n",
    "    cotacao_btc = requisicao_dic[\"BTCBRL\"][\"bid\"]\n",
    "\n",
    "    tabela = pd.read_excel(\"Cotações.xlsx\")\n",
    "    tabela.loc[0, \"Cotação\"] = float(cotacao_dolar)\n",
    "    tabela.loc[1, \"Cotação\"] = float(cotacao_euro)\n",
    "    tabela.loc[2, \"Cotação\"] = float(cotacao_btc)\n",
    "    tabela.loc[0, \"Data Última Atualização\"] = datetime.now()\n",
    "\n",
    "    tabela.to_excel(\"Cotações.xlsx\", index=False)\n",
    "    print(f\"Cotação Atualizada. {datetime.now()}\")\n",
    "\n",
    "    time.sleep(60)\n",
    "#O que faz o código rodar minuto a minuto é o time.sleep(60) junto do While True."
   ]
  }
 ],
 "metadata": {
  "language_info": {
   "name": "python"
  }
 },
 "nbformat": 4,
 "nbformat_minor": 5
}
