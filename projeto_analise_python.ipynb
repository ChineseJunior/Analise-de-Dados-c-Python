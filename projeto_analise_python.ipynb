{
 "cells": [
  {
   "cell_type": "code",
   "execution_count": null,
   "id": "36f70446",
   "metadata": {},
   "outputs": [],
   "source": [
    "import pandas as pd\n",
    "#Importa biblioteca Pandas que é muito utilizada para manipulação de dados\n",
    "tabela = pd.read_excel('Vendas.xlsx')\n",
    "display(tabela)\n"
   ]
  }
 ],
 "metadata": {
  "kernelspec": {
   "display_name": "Python 3",
   "language": "python",
   "name": "python3"
  },
  "language_info": {
   "codemirror_mode": {
    "name": "ipython",
    "version": 3
   },
   "file_extension": ".py",
   "mimetype": "text/x-python",
   "name": "python",
   "nbconvert_exporter": "python",
   "pygments_lexer": "ipython3",
   "version": "3.13.3"
  }
 },
 "nbformat": 4,
 "nbformat_minor": 5
}
