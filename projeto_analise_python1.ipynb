{
 "cells": [
  {
   "cell_type": "code",
   "execution_count": null,
   "id": "70e2d833",
   "metadata": {},
   "outputs": [],
   "source": [
    "import plotly.express as px\n",
    "#Plotly é uma biblioteca de visualização grafica"
   ]
  },
  {
   "cell_type": "code",
   "execution_count": null,
   "id": "76a81175",
   "metadata": {},
   "outputs": [
    {
     "ename": "NameError",
     "evalue": "name 'px' is not defined",
     "output_type": "error",
     "traceback": [
      "\u001b[31m---------------------------------------------------------------------------\u001b[39m",
      "\u001b[31mNameError\u001b[39m                                 Traceback (most recent call last)",
      "\u001b[36mCell\u001b[39m\u001b[36m \u001b[39m\u001b[32mIn[2]\u001b[39m\u001b[32m, line 4\u001b[39m\n\u001b[32m      2\u001b[39m dados_y = [\u001b[32m10\u001b[39m, \u001b[32m20\u001b[39m, \u001b[32m30\u001b[39m, \u001b[32m40\u001b[39m]\n\u001b[32m      3\u001b[39m \u001b[38;5;66;03m#Criando um grafico\u001b[39;00m\n\u001b[32m----> \u001b[39m\u001b[32m4\u001b[39m fig = \u001b[43mpx\u001b[49m.line(x=dados_x, y=dados_y, title=\u001b[33m\"\u001b[39m\u001b[33mGráfico de Linhas com Plotly\u001b[39m\u001b[33m\"\u001b[39m)\n\u001b[32m      5\u001b[39m \u001b[38;5;66;03m#'px.line' é uma função que cria um gráfico de linhas\u001b[39;00m\n\u001b[32m      6\u001b[39m fig.show()\n",
      "\u001b[31mNameError\u001b[39m: name 'px' is not defined"
     ]
    }
   ],
   "source": [
    "dados_x = ['2018', '2019', '2020', '2021']\n",
    "dados_y = [10, 20, 30, 40]\n",
    "#Criando um grafico\n",
    "fig = px.line(x=dados_x, y=dados_y)\n",
    "#'px.line' é uma função que cria um gráfico de linhas\n",
    "fig.show()\n",
    "#'fig.show()' exibe o gráfico"
   ]
  }
 ],
 "metadata": {
  "kernelspec": {
   "display_name": "Python 3",
   "language": "python",
   "name": "python3"
  },
  "language_info": {
   "codemirror_mode": {
    "name": "ipython",
    "version": 3
   },
   "file_extension": ".py",
   "mimetype": "text/x-python",
   "name": "python",
   "nbconvert_exporter": "python",
   "pygments_lexer": "ipython3",
   "version": "3.13.3"
  }
 },
 "nbformat": 4,
 "nbformat_minor": 5
}
