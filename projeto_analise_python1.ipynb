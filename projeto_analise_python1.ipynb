{
 "cells": [
  {
   "cell_type": "code",
   "execution_count": null,
   "id": "70e2d833",
   "metadata": {},
   "outputs": [],
   "source": [
    "import plotly as px\n",
    "#Plotly é uma biblioteca de visualização grafica"
   ]
  }
 ],
 "metadata": {
  "language_info": {
   "name": "python"
  }
 },
 "nbformat": 4,
 "nbformat_minor": 5
}
