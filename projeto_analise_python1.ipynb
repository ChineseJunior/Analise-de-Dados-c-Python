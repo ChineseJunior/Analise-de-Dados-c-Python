{
 "cells": [
  {
   "cell_type": "code",
   "execution_count": null,
   "id": "70e2d833",
   "metadata": {},
   "outputs": [],
   "source": [
    "import plotly.express as px\n",
    "#Plotly é uma biblioteca de visualização grafica"
   ]
  },
  {
   "cell_type": "code",
   "execution_count": null,
   "id": "76a81175",
   "metadata": {},
   "outputs": [],
   "source": [
    "import plotly.express as px\n",
    "import nbformat\n",
    "#'nbformat' é uma biblioteca para ler e escrever notebooks Jupyter\n",
    "print(nbformat.__version__)\n",
    "\n",
    "dados_x = ['2018', '2019', '2020', '2021']\n",
    "dados_y = [10, 20, 30, 40]\n",
    "#Criando um grafico\n",
    "fig = px.line(x=dados_x, y=dados_y, title='Gráfico de Linhas')\n",
    "#'px.line' é uma função que cria um gráfico de linhas\n",
    "fig.show()\n",
    "#'fig.show()' exibe o gráfico"
   ]
  }
 ],
 "metadata": {
  "kernelspec": {
   "display_name": "Python 3",
   "language": "python",
   "name": "python3"
  },
  "language_info": {
   "codemirror_mode": {
    "name": "ipython",
    "version": 3
   },
   "file_extension": ".py",
   "mimetype": "text/x-python",
   "name": "python",
   "nbconvert_exporter": "python",
   "pygments_lexer": "ipython3",
   "version": "3.13.3"
  }
 },
 "nbformat": 4,
 "nbformat_minor": 5
}
